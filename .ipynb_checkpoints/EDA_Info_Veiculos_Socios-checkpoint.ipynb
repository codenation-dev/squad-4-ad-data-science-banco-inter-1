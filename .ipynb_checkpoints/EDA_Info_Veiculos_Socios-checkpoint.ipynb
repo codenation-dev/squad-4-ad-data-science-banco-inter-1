{
 "cells": [
  {
   "cell_type": "markdown",
   "metadata": {},
   "source": [
    "# Análise das informações de `Sócios` e `Veículos` - Nilson"
   ]
  },
  {
   "cell_type": "code",
   "execution_count": 69,
   "metadata": {},
   "outputs": [],
   "source": [
    "import pandas as pd\n",
    "import numpy as np\n",
    "import seaborn as sns\n",
    "import matplotlib.pyplot as plt\n",
    "sns.set(style='darkgrid')"
   ]
  },
  {
   "cell_type": "code",
   "execution_count": 2,
   "metadata": {},
   "outputs": [],
   "source": [
    "market = pd.read_csv('../desafio/estaticos_market.csv')\n",
    "port1 = pd.read_csv('../desafio/port1.csv')\n",
    "port2 = pd.read_csv('../desafio/port2.csv')\n",
    "port3 = pd.read_csv('../desafio/port3.csv')"
   ]
  },
  {
   "cell_type": "code",
   "execution_count": 8,
   "metadata": {},
   "outputs": [
    {
     "data": {
      "text/html": [
       "<div>\n",
       "<style scoped>\n",
       "    .dataframe tbody tr th:only-of-type {\n",
       "        vertical-align: middle;\n",
       "    }\n",
       "\n",
       "    .dataframe tbody tr th {\n",
       "        vertical-align: top;\n",
       "    }\n",
       "\n",
       "    .dataframe thead th {\n",
       "        text-align: right;\n",
       "    }\n",
       "</style>\n",
       "<table border=\"1\" class=\"dataframe\">\n",
       "  <thead>\n",
       "    <tr style=\"text-align: right;\">\n",
       "      <th></th>\n",
       "      <th>Unnamed: 0</th>\n",
       "      <th>id</th>\n",
       "      <th>fl_matriz</th>\n",
       "      <th>de_natureza_juridica</th>\n",
       "      <th>sg_uf</th>\n",
       "      <th>natureza_juridica_macro</th>\n",
       "      <th>de_ramo</th>\n",
       "      <th>setor</th>\n",
       "      <th>idade_empresa_anos</th>\n",
       "      <th>idade_emp_cat</th>\n",
       "      <th>...</th>\n",
       "      <th>media_meses_servicos</th>\n",
       "      <th>max_meses_servicos</th>\n",
       "      <th>min_meses_servicos</th>\n",
       "      <th>qt_funcionarios</th>\n",
       "      <th>qt_funcionarios_12meses</th>\n",
       "      <th>qt_funcionarios_24meses</th>\n",
       "      <th>tx_crescimento_12meses</th>\n",
       "      <th>tx_crescimento_24meses</th>\n",
       "      <th>tx_rotatividade</th>\n",
       "      <th>qt_filiais</th>\n",
       "    </tr>\n",
       "  </thead>\n",
       "  <tbody>\n",
       "    <tr>\n",
       "      <td>0</td>\n",
       "      <td>0</td>\n",
       "      <td>a6984c3ae395090e3bee8ad63c3758b110de096d5d8195...</td>\n",
       "      <td>True</td>\n",
       "      <td>SOCIEDADE EMPRESARIA LIMITADA</td>\n",
       "      <td>RN</td>\n",
       "      <td>ENTIDADES EMPRESARIAIS</td>\n",
       "      <td>INDUSTRIA DA CONSTRUCAO</td>\n",
       "      <td>CONSTRUÇÃO CIVIL</td>\n",
       "      <td>14.457534</td>\n",
       "      <td>10 a 15</td>\n",
       "      <td>...</td>\n",
       "      <td>43.738462</td>\n",
       "      <td>93.266667</td>\n",
       "      <td>19.166667</td>\n",
       "      <td>26.0</td>\n",
       "      <td>26.0</td>\n",
       "      <td>27.0</td>\n",
       "      <td>0.0</td>\n",
       "      <td>-3.703704</td>\n",
       "      <td>0.0</td>\n",
       "      <td>0</td>\n",
       "    </tr>\n",
       "    <tr>\n",
       "      <td>1</td>\n",
       "      <td>1</td>\n",
       "      <td>6178f41ade1365e44bc2c46654c2c8c0eaae27dcb476c4...</td>\n",
       "      <td>True</td>\n",
       "      <td>EMPRESARIO INDIVIDUAL</td>\n",
       "      <td>PI</td>\n",
       "      <td>OUTROS</td>\n",
       "      <td>SERVICOS DE ALOJAMENTO/ALIMENTACAO</td>\n",
       "      <td>SERVIÇO</td>\n",
       "      <td>1.463014</td>\n",
       "      <td>1 a 5</td>\n",
       "      <td>...</td>\n",
       "      <td>NaN</td>\n",
       "      <td>NaN</td>\n",
       "      <td>NaN</td>\n",
       "      <td>NaN</td>\n",
       "      <td>NaN</td>\n",
       "      <td>NaN</td>\n",
       "      <td>NaN</td>\n",
       "      <td>NaN</td>\n",
       "      <td>NaN</td>\n",
       "      <td>0</td>\n",
       "    </tr>\n",
       "    <tr>\n",
       "      <td>2</td>\n",
       "      <td>2</td>\n",
       "      <td>4a7e5069a397f12fdd7fd57111d6dc5d3ba558958efc02...</td>\n",
       "      <td>True</td>\n",
       "      <td>EMPRESARIO INDIVIDUAL</td>\n",
       "      <td>AM</td>\n",
       "      <td>OUTROS</td>\n",
       "      <td>TRANSPORTE, ARMAZENAGEM E CORREIO</td>\n",
       "      <td>SERVIÇO</td>\n",
       "      <td>7.093151</td>\n",
       "      <td>5 a 10</td>\n",
       "      <td>...</td>\n",
       "      <td>NaN</td>\n",
       "      <td>NaN</td>\n",
       "      <td>NaN</td>\n",
       "      <td>NaN</td>\n",
       "      <td>NaN</td>\n",
       "      <td>NaN</td>\n",
       "      <td>NaN</td>\n",
       "      <td>NaN</td>\n",
       "      <td>NaN</td>\n",
       "      <td>0</td>\n",
       "    </tr>\n",
       "  </tbody>\n",
       "</table>\n",
       "<p>3 rows × 182 columns</p>\n",
       "</div>"
      ],
      "text/plain": [
       "   Unnamed: 0                                                 id  fl_matriz  \\\n",
       "0           0  a6984c3ae395090e3bee8ad63c3758b110de096d5d8195...       True   \n",
       "1           1  6178f41ade1365e44bc2c46654c2c8c0eaae27dcb476c4...       True   \n",
       "2           2  4a7e5069a397f12fdd7fd57111d6dc5d3ba558958efc02...       True   \n",
       "\n",
       "            de_natureza_juridica sg_uf natureza_juridica_macro  \\\n",
       "0  SOCIEDADE EMPRESARIA LIMITADA    RN  ENTIDADES EMPRESARIAIS   \n",
       "1          EMPRESARIO INDIVIDUAL    PI                  OUTROS   \n",
       "2          EMPRESARIO INDIVIDUAL    AM                  OUTROS   \n",
       "\n",
       "                              de_ramo             setor  idade_empresa_anos  \\\n",
       "0             INDUSTRIA DA CONSTRUCAO  CONSTRUÇÃO CIVIL           14.457534   \n",
       "1  SERVICOS DE ALOJAMENTO/ALIMENTACAO           SERVIÇO            1.463014   \n",
       "2   TRANSPORTE, ARMAZENAGEM E CORREIO           SERVIÇO            7.093151   \n",
       "\n",
       "  idade_emp_cat  ...  media_meses_servicos  max_meses_servicos  \\\n",
       "0       10 a 15  ...             43.738462           93.266667   \n",
       "1         1 a 5  ...                   NaN                 NaN   \n",
       "2        5 a 10  ...                   NaN                 NaN   \n",
       "\n",
       "   min_meses_servicos  qt_funcionarios  qt_funcionarios_12meses  \\\n",
       "0           19.166667             26.0                     26.0   \n",
       "1                 NaN              NaN                      NaN   \n",
       "2                 NaN              NaN                      NaN   \n",
       "\n",
       "  qt_funcionarios_24meses  tx_crescimento_12meses  tx_crescimento_24meses  \\\n",
       "0                    27.0                     0.0               -3.703704   \n",
       "1                     NaN                     NaN                     NaN   \n",
       "2                     NaN                     NaN                     NaN   \n",
       "\n",
       "   tx_rotatividade qt_filiais  \n",
       "0              0.0          0  \n",
       "1              NaN          0  \n",
       "2              NaN          0  \n",
       "\n",
       "[3 rows x 182 columns]"
      ]
     },
     "execution_count": 8,
     "metadata": {},
     "output_type": "execute_result"
    }
   ],
   "source": [
    "market.head(3)"
   ]
  },
  {
   "cell_type": "markdown",
   "metadata": {},
   "source": [
    "### **Insight relacionado a veículos**\n",
    "\n",
    ">- fl_spa *(pode dar uma boa métrica)*: \n",
    ">    - *p1* não comercializa com quem tenha posto de combustível\n",
    ">    - *p2* e *p3* comercializam, mas com valores muito menores referente aos que não comercializam.\n",
    "\n",
    ">- fl_antt *(avaliar no modelo - provavel descarte)*:\n",
    ">    - Ambos com pouca comercialização, porém *p1* com valor infimo relatívo ao todo.\n",
    "    \n",
    ">- fl_veiculo: *(pode dar uma boa métrica)*:\n",
    ">    - *p1* não tem baixa comercialização com quem tem ao menos um veículo;\n",
    ">    - Já *p2* e *p3* é o contrário, índice é de comercializar com quem tenha veículos\n",
    "    \n",
    "> Features abaixo não acho que irá melhorar o modelo, pelo contrário.\n",
    ">- vl_total_veiculos_pesados_grupo:\n",
    ">    - *p1* se diferencia dos demais tendo uma concentração muito grande em zero;\n",
    ">    - *p2* e *p3* já tem uma variação maior\n",
    ">\n",
    ">- vl_total_veiculos_leves_grupo:\n",
    ">    - Mesmo cenário acima"
   ]
  },
  {
   "cell_type": "markdown",
   "metadata": {},
   "source": [
    "# Análise relatíva a `veículos`"
   ]
  },
  {
   "cell_type": "code",
   "execution_count": 9,
   "metadata": {},
   "outputs": [],
   "source": [
    "veiculos = market[['id','fl_spa','fl_antt','fl_veiculo','vl_total_veiculos_pesados_grupo','vl_total_veiculos_leves_grupo']]"
   ]
  },
  {
   "cell_type": "markdown",
   "metadata": {},
   "source": [
    "- **fl_spa** -> pŕoprio posto de combustível\n",
    "- **fl_antt** -> se é certificada pela ANTT para fins de transporte\n",
    "- **fl_veiculo** -> se a empresa possui pelo menos um veículo\n",
    "- **vl_total_veiculos_pesados_grupo** -> valor econômico dos veículos pesados da grupo econômico da empresa\n",
    "- **vl_total_veiculos_leves_grupo** -> valor econômico dos veículos leves da economia grupo da empresa"
   ]
  },
  {
   "cell_type": "code",
   "execution_count": 10,
   "metadata": {},
   "outputs": [
    {
     "data": {
      "text/plain": [
       "id                                    0\n",
       "fl_spa                             1927\n",
       "fl_antt                            1927\n",
       "fl_veiculo                         1927\n",
       "vl_total_veiculos_pesados_grupo    1927\n",
       "vl_total_veiculos_leves_grupo      1927\n",
       "dtype: int64"
      ]
     },
     "execution_count": 10,
     "metadata": {},
     "output_type": "execute_result"
    }
   ],
   "source": [
    "veiculos.isnull().sum()"
   ]
  },
  {
   "cell_type": "code",
   "execution_count": 11,
   "metadata": {},
   "outputs": [
    {
     "name": "stderr",
     "output_type": "stream",
     "text": [
      "/home/nilson/anaconda3/lib/python3.7/site-packages/ipykernel_launcher.py:2: SettingWithCopyWarning: \n",
      "A value is trying to be set on a copy of a slice from a DataFrame\n",
      "\n",
      "See the caveats in the documentation: http://pandas.pydata.org/pandas-docs/stable/user_guide/indexing.html#returning-a-view-versus-a-copy\n",
      "  \n"
     ]
    }
   ],
   "source": [
    "# Limpando os valores nulos, pois a qunatidade é mínima em relação aos total\n",
    "veiculos.dropna(axis=0, inplace=True)"
   ]
  },
  {
   "cell_type": "code",
   "execution_count": 12,
   "metadata": {},
   "outputs": [
    {
     "data": {
      "text/plain": [
       "id                                 0\n",
       "fl_spa                             0\n",
       "fl_antt                            0\n",
       "fl_veiculo                         0\n",
       "vl_total_veiculos_pesados_grupo    0\n",
       "vl_total_veiculos_leves_grupo      0\n",
       "dtype: int64"
      ]
     },
     "execution_count": 12,
     "metadata": {},
     "output_type": "execute_result"
    }
   ],
   "source": [
    "veiculos.isnull().sum()"
   ]
  },
  {
   "cell_type": "code",
   "execution_count": 13,
   "metadata": {},
   "outputs": [
    {
     "name": "stderr",
     "output_type": "stream",
     "text": [
      "/home/nilson/anaconda3/lib/python3.7/site-packages/ipykernel_launcher.py:1: SettingWithCopyWarning: \n",
      "A value is trying to be set on a copy of a slice from a DataFrame.\n",
      "Try using .loc[row_indexer,col_indexer] = value instead\n",
      "\n",
      "See the caveats in the documentation: http://pandas.pydata.org/pandas-docs/stable/user_guide/indexing.html#returning-a-view-versus-a-copy\n",
      "  \"\"\"Entry point for launching an IPython kernel.\n",
      "/home/nilson/anaconda3/lib/python3.7/site-packages/ipykernel_launcher.py:2: SettingWithCopyWarning: \n",
      "A value is trying to be set on a copy of a slice from a DataFrame.\n",
      "Try using .loc[row_indexer,col_indexer] = value instead\n",
      "\n",
      "See the caveats in the documentation: http://pandas.pydata.org/pandas-docs/stable/user_guide/indexing.html#returning-a-view-versus-a-copy\n",
      "  \n",
      "/home/nilson/anaconda3/lib/python3.7/site-packages/ipykernel_launcher.py:3: SettingWithCopyWarning: \n",
      "A value is trying to be set on a copy of a slice from a DataFrame.\n",
      "Try using .loc[row_indexer,col_indexer] = value instead\n",
      "\n",
      "See the caveats in the documentation: http://pandas.pydata.org/pandas-docs/stable/user_guide/indexing.html#returning-a-view-versus-a-copy\n",
      "  This is separate from the ipykernel package so we can avoid doing imports until\n"
     ]
    }
   ],
   "source": [
    "veiculos['port1'] = veiculos.id.isin(port1.id)\n",
    "veiculos['port2'] = veiculos.id.isin(port2.id)\n",
    "veiculos['port3'] = veiculos.id.isin(port3.id)"
   ]
  },
  {
   "cell_type": "code",
   "execution_count": 14,
   "metadata": {},
   "outputs": [
    {
     "name": "stdout",
     "output_type": "stream",
     "text": [
      "<class 'pandas.core.frame.DataFrame'>\n",
      "Int64Index: 460371 entries, 0 to 462297\n",
      "Data columns (total 9 columns):\n",
      "id                                 460371 non-null object\n",
      "fl_spa                             460371 non-null object\n",
      "fl_antt                            460371 non-null object\n",
      "fl_veiculo                         460371 non-null object\n",
      "vl_total_veiculos_pesados_grupo    460371 non-null float64\n",
      "vl_total_veiculos_leves_grupo      460371 non-null float64\n",
      "port1                              460371 non-null bool\n",
      "port2                              460371 non-null bool\n",
      "port3                              460371 non-null bool\n",
      "dtypes: bool(3), float64(2), object(4)\n",
      "memory usage: 25.9+ MB\n"
     ]
    }
   ],
   "source": [
    "veiculos.info()"
   ]
  },
  {
   "cell_type": "markdown",
   "metadata": {},
   "source": [
    "### Tentando encontrar similaridade entre as variâvies"
   ]
  },
  {
   "cell_type": "code",
   "execution_count": 15,
   "metadata": {},
   "outputs": [
    {
     "name": "stdout",
     "output_type": "stream",
     "text": [
      "11 empresas que não tem posto, não são certificadas e não tem veículos\n"
     ]
    }
   ],
   "source": [
    "print(veiculos[(veiculos['port2'] == 1) & (veiculos['port3'] == 1) \n",
    "         & (veiculos['fl_spa'] == False) \n",
    "         & (veiculos['fl_antt'] == False)\n",
    "         & (veiculos['fl_veiculo'] == False)]['id'].count(), 'empresas que não tem posto, não são certificadas e não tem veículos')"
   ]
  },
  {
   "cell_type": "code",
   "execution_count": 16,
   "metadata": {},
   "outputs": [
    {
     "name": "stdout",
     "output_type": "stream",
     "text": [
      "90 empresas que tem veículos, mas não tem posto e não são certificada pela ANTT\n"
     ]
    }
   ],
   "source": [
    "print(veiculos[(veiculos['port2'] == 1) & (veiculos['port3'] == 1) \n",
    "         & (veiculos['fl_spa'] == False) \n",
    "         & (veiculos['fl_antt'] == False)\n",
    "         & (veiculos['fl_veiculo'] == True)]['id'].count(), 'empresas que tem veículos, mas não tem posto e não são certificada pela ANTT')"
   ]
  },
  {
   "cell_type": "code",
   "execution_count": 17,
   "metadata": {},
   "outputs": [
    {
     "name": "stdout",
     "output_type": "stream",
     "text": [
      "4 empresas que tem veículos e são certificada pela ANTT, mas não tem posto\n"
     ]
    }
   ],
   "source": [
    "print(veiculos[(veiculos['port2'] == 1) & (veiculos['port3'] == 1) \n",
    "         & (veiculos['fl_spa'] == False) \n",
    "         & (veiculos['fl_antt'] == True)\n",
    "         & (veiculos['fl_veiculo'] == True)]['id'].count(), 'empresas que tem veículos e são certificada pela ANTT, mas não tem posto')"
   ]
  },
  {
   "cell_type": "code",
   "execution_count": 18,
   "metadata": {},
   "outputs": [
    {
     "name": "stdout",
     "output_type": "stream",
     "text": [
      "1 empresa tem veículo, é certificada e tem posto\n"
     ]
    }
   ],
   "source": [
    "print(veiculos[(veiculos['port2'] == 1) & (veiculos['port3'] == 1) \n",
    "         & (veiculos['fl_spa'] == True) \n",
    "         & (veiculos['fl_antt'] == True)\n",
    "         & (veiculos['fl_veiculo'] == True)]['id'].count(), 'empresa tem veículo, é certificada e tem posto')"
   ]
  },
  {
   "cell_type": "markdown",
   "metadata": {},
   "source": [
    "### Verificando a variável fl_spa"
   ]
  },
  {
   "cell_type": "code",
   "execution_count": 82,
   "metadata": {},
   "outputs": [
    {
     "data": {
      "text/html": [
       "<div>\n",
       "<style scoped>\n",
       "    .dataframe tbody tr th:only-of-type {\n",
       "        vertical-align: middle;\n",
       "    }\n",
       "\n",
       "    .dataframe tbody tr th {\n",
       "        vertical-align: top;\n",
       "    }\n",
       "\n",
       "    .dataframe thead th {\n",
       "        text-align: right;\n",
       "    }\n",
       "</style>\n",
       "<table border=\"1\" class=\"dataframe\">\n",
       "  <thead>\n",
       "    <tr style=\"text-align: right;\">\n",
       "      <th></th>\n",
       "      <th>port1</th>\n",
       "      <th>port2</th>\n",
       "      <th>port3</th>\n",
       "    </tr>\n",
       "    <tr>\n",
       "      <th>fl_spa</th>\n",
       "      <th></th>\n",
       "      <th></th>\n",
       "      <th></th>\n",
       "    </tr>\n",
       "  </thead>\n",
       "  <tbody>\n",
       "    <tr>\n",
       "      <td>False</td>\n",
       "      <td>555.0</td>\n",
       "      <td>539.0</td>\n",
       "      <td>255.0</td>\n",
       "    </tr>\n",
       "    <tr>\n",
       "      <td>True</td>\n",
       "      <td>0.0</td>\n",
       "      <td>27.0</td>\n",
       "      <td>10.0</td>\n",
       "    </tr>\n",
       "  </tbody>\n",
       "</table>\n",
       "</div>"
      ],
      "text/plain": [
       "        port1  port2  port3\n",
       "fl_spa                     \n",
       "False   555.0  539.0  255.0\n",
       "True      0.0   27.0   10.0"
      ]
     },
     "execution_count": 82,
     "metadata": {},
     "output_type": "execute_result"
    },
    {
     "data": {
      "image/png": "[encoded data removed]",
      "text/plain": [
       "<Figure size 1008x288 with 3 Axes>"
      ]
     },
     "metadata": {},
     "output_type": "display_data"
    }
   ],
   "source": [
    "# Fazendo o agrupamento\n",
    "fl_spap1 = veiculos.groupby(['fl_spa'])['port1'].sum().reset_index()\n",
    "fl_spap2 = veiculos.groupby(['fl_spa'])['port2'].sum().reset_index()\n",
    "fl_spap3 = veiculos.groupby(['fl_spa'])['port3'].sum().reset_index()\n",
    "\n",
    "# Plotando o gráfico\n",
    "fig, (ax1, ax2, ax3) = plt.subplots(1, 3, figsize=(14,4))\n",
    "sns.barplot(x=fl_spap1.iloc[:,0], y=fl_spap1.iloc[:,1], ax=ax1)\n",
    "sns.barplot(x=fl_spap2.iloc[:,0], y=fl_spap2.iloc[:,1], ax=ax2)\n",
    "sns.barplot(x=fl_spap3.iloc[:,0], y=fl_spap3.iloc[:,1], ax=ax3)\n",
    "\n",
    "# imprimindo os números\n",
    "veiculos.groupby(['fl_spa'])['port1','port2','port3'].sum()"
   ]
  },
  {
   "cell_type": "markdown",
   "metadata": {},
   "source": [
    "### Verificando a variável fl_antt"
   ]
  },
  {
   "cell_type": "code",
   "execution_count": 83,
   "metadata": {},
   "outputs": [
    {
     "data": {
      "text/html": [
       "<div>\n",
       "<style scoped>\n",
       "    .dataframe tbody tr th:only-of-type {\n",
       "        vertical-align: middle;\n",
       "    }\n",
       "\n",
       "    .dataframe tbody tr th {\n",
       "        vertical-align: top;\n",
       "    }\n",
       "\n",
       "    .dataframe thead th {\n",
       "        text-align: right;\n",
       "    }\n",
       "</style>\n",
       "<table border=\"1\" class=\"dataframe\">\n",
       "  <thead>\n",
       "    <tr style=\"text-align: right;\">\n",
       "      <th></th>\n",
       "      <th>port1</th>\n",
       "      <th>port2</th>\n",
       "      <th>port3</th>\n",
       "    </tr>\n",
       "    <tr>\n",
       "      <th>fl_antt</th>\n",
       "      <th></th>\n",
       "      <th></th>\n",
       "      <th></th>\n",
       "    </tr>\n",
       "  </thead>\n",
       "  <tbody>\n",
       "    <tr>\n",
       "      <td>False</td>\n",
       "      <td>551.0</td>\n",
       "      <td>474.0</td>\n",
       "      <td>253.0</td>\n",
       "    </tr>\n",
       "    <tr>\n",
       "      <td>True</td>\n",
       "      <td>4.0</td>\n",
       "      <td>92.0</td>\n",
       "      <td>12.0</td>\n",
       "    </tr>\n",
       "  </tbody>\n",
       "</table>\n",
       "</div>"
      ],
      "text/plain": [
       "         port1  port2  port3\n",
       "fl_antt                     \n",
       "False    551.0  474.0  253.0\n",
       "True       4.0   92.0   12.0"
      ]
     },
     "execution_count": 83,
     "metadata": {},
     "output_type": "execute_result"
    },
    {
     "data": {
      "image/png": "[encoded data removed]",
      "text/plain": [
       "<Figure size 1008x288 with 3 Axes>"
      ]
     },
     "metadata": {},
     "output_type": "display_data"
    }
   ],
   "source": [
    "# Fazendo o agrupamento\n",
    "fl_anttp1 = veiculos.groupby(['fl_antt'])['port1'].sum().reset_index()\n",
    "fl_anttp2 = veiculos.groupby(['fl_antt'])['port2'].sum().reset_index()\n",
    "fl_anttp3 = veiculos.groupby(['fl_antt'])['port3'].sum().reset_index()\n",
    "\n",
    "# Plotando o gráfico\n",
    "fig, (ax1, ax2, ax3) = plt.subplots(1, 3, figsize=(14,4))\n",
    "sns.barplot(x=fl_anttp1.iloc[:,0], y=fl_anttp1.iloc[:,1], ax=ax1)\n",
    "sns.barplot(x=fl_anttp2.iloc[:,0], y=fl_anttp2.iloc[:,1], ax=ax2)\n",
    "sns.barplot(x=fl_anttp3.iloc[:,0], y=fl_anttp3.iloc[:,1], ax=ax3)\n",
    "\n",
    "# imprimindo os números\n",
    "veiculos.groupby(['fl_antt'])['port1', 'port2', 'port3'].sum()"
   ]
  },
  {
   "cell_type": "markdown",
   "metadata": {},
   "source": [
    "### Verificando a variável fl_veiculo"
   ]
  },
  {
   "cell_type": "code",
   "execution_count": 84,
   "metadata": {},
   "outputs": [
    {
     "data": {
      "text/html": [
       "<div>\n",
       "<style scoped>\n",
       "    .dataframe tbody tr th:only-of-type {\n",
       "        vertical-align: middle;\n",
       "    }\n",
       "\n",
       "    .dataframe tbody tr th {\n",
       "        vertical-align: top;\n",
       "    }\n",
       "\n",
       "    .dataframe thead th {\n",
       "        text-align: right;\n",
       "    }\n",
       "</style>\n",
       "<table border=\"1\" class=\"dataframe\">\n",
       "  <thead>\n",
       "    <tr style=\"text-align: right;\">\n",
       "      <th></th>\n",
       "      <th>port1</th>\n",
       "      <th>port2</th>\n",
       "      <th>port3</th>\n",
       "    </tr>\n",
       "    <tr>\n",
       "      <th>fl_veiculo</th>\n",
       "      <th></th>\n",
       "      <th></th>\n",
       "      <th></th>\n",
       "    </tr>\n",
       "  </thead>\n",
       "  <tbody>\n",
       "    <tr>\n",
       "      <td>False</td>\n",
       "      <td>517.0</td>\n",
       "      <td>76.0</td>\n",
       "      <td>44.0</td>\n",
       "    </tr>\n",
       "    <tr>\n",
       "      <td>True</td>\n",
       "      <td>38.0</td>\n",
       "      <td>490.0</td>\n",
       "      <td>221.0</td>\n",
       "    </tr>\n",
       "  </tbody>\n",
       "</table>\n",
       "</div>"
      ],
      "text/plain": [
       "            port1  port2  port3\n",
       "fl_veiculo                     \n",
       "False       517.0   76.0   44.0\n",
       "True         38.0  490.0  221.0"
      ]
     },
     "execution_count": 84,
     "metadata": {},
     "output_type": "execute_result"
    },
    {
     "data": {
      "image/png": "[encoded data removed]",
      "text/plain": [
       "<Figure size 1008x288 with 3 Axes>"
      ]
     },
     "metadata": {},
     "output_type": "display_data"
    }
   ],
   "source": [
    "# Fazendo o agrupamento\n",
    "fl_veiculop1 = veiculos.groupby(['fl_veiculo'])['port1'].sum().reset_index()\n",
    "fl_veiculop2 = veiculos.groupby(['fl_veiculo'])['port2'].sum().reset_index()\n",
    "fl_veiculop3 = veiculos.groupby(['fl_veiculo'])['port3'].sum().reset_index()\n",
    "\n",
    "# Plotando o gráfico\n",
    "fig, (ax1, ax2, ax3) = plt.subplots(1, 3, figsize=(14,4))\n",
    "sns.barplot(x=fl_veiculop1.iloc[:,0], y=fl_veiculop1.iloc[:,1], ax=ax1)\n",
    "sns.barplot(x=fl_veiculop2.iloc[:,0], y=fl_veiculop2.iloc[:,1], ax=ax2)\n",
    "sns.barplot(x=fl_veiculop3.iloc[:,0], y=fl_veiculop3.iloc[:,1], ax=ax3)\n",
    "\n",
    "# imprimindo os números\n",
    "veiculos.groupby(['fl_veiculo'])['port1', 'port2', 'port3'].sum()"
   ]
  },
  {
   "cell_type": "markdown",
   "metadata": {},
   "source": [
    "### Verificando a variável vl_total_veiculos_pesados_grupo"
   ]
  },
  {
   "cell_type": "code",
   "execution_count": 81,
   "metadata": {},
   "outputs": [
    {
     "name": "stdout",
     "output_type": "stream",
     "text": [
      "     vl_total_veiculos_pesados_grupo  port1\n",
      "0                                0.0  535.0\n",
      "1                                1.0    9.0\n",
      "2                                2.0    2.0\n",
      "4                                4.0    2.0\n",
      "5                                5.0    1.0\n",
      "7                                7.0    2.0\n",
      "8                                8.0    2.0\n",
      "40                              40.0    1.0\n",
      "208                            382.0    1.0\n"
     ]
    },
    {
     "data": {
      "image/png": "[encoded data removed]",
      "text/plain": [
       "<Figure size 1440x360 with 1 Axes>"
      ]
     },
     "metadata": {},
     "output_type": "display_data"
    },
    {
     "name": "stdout",
     "output_type": "stream",
     "text": [
      "     vl_total_veiculos_pesados_grupo  port2\n",
      "0                                0.0  237.0\n",
      "1                                1.0   54.0\n",
      "2                                2.0   41.0\n",
      "3                                3.0   28.0\n",
      "4                                4.0   25.0\n",
      "5                                5.0   17.0\n",
      "6                                6.0   15.0\n",
      "7                                7.0   16.0\n",
      "8                                8.0   10.0\n",
      "9                                9.0   13.0\n",
      "10                              10.0   10.0\n",
      "11                              11.0    6.0\n",
      "12                              12.0    4.0\n",
      "13                              13.0    5.0\n",
      "14                              14.0    3.0\n",
      "15                              15.0    6.0\n",
      "16                              16.0    6.0\n",
      "17                              17.0    3.0\n",
      "18                              18.0    3.0\n",
      "19                              19.0    5.0\n",
      "25                              25.0    1.0\n",
      "26                              26.0    2.0\n",
      "32                              32.0    1.0\n",
      "44                              44.0    2.0\n",
      "46                              46.0    4.0\n",
      "68                              69.0    1.0\n",
      "85                              86.0    1.0\n",
      "113                            116.0    0.0\n",
      "115                            118.0    0.0\n",
      "142                            159.0    0.0\n",
      "155                            187.0    1.0\n",
      "169                            215.0    1.0\n"
     ]
    },
    {
     "data": {
      "image/png": "[encoded data removed]",
      "text/plain": [
       "<Figure size 1440x360 with 1 Axes>"
      ]
     },
     "metadata": {},
     "output_type": "display_data"
    },
    {
     "name": "stdout",
     "output_type": "stream",
     "text": [
      "     vl_total_veiculos_pesados_grupo  port3\n",
      "0                                0.0  105.0\n",
      "1                                1.0   34.0\n",
      "2                                2.0   11.0\n",
      "3                                3.0   11.0\n",
      "4                                4.0   17.0\n",
      "5                                5.0   11.0\n",
      "6                                6.0   12.0\n",
      "7                                7.0    7.0\n",
      "8                                8.0   12.0\n",
      "9                                9.0    7.0\n",
      "10                              10.0    3.0\n",
      "11                              11.0    2.0\n",
      "12                              12.0    3.0\n",
      "13                              13.0    4.0\n",
      "14                              14.0    1.0\n",
      "15                              15.0    1.0\n",
      "16                              16.0    4.0\n",
      "17                              17.0    2.0\n",
      "18                              18.0    1.0\n",
      "19                              19.0    1.0\n",
      "25                              25.0    1.0\n",
      "26                              26.0    3.0\n",
      "32                              32.0    1.0\n",
      "44                              44.0    1.0\n",
      "46                              46.0    3.0\n",
      "68                              69.0    1.0\n",
      "85                              86.0    1.0\n",
      "113                            116.0    1.0\n",
      "115                            118.0    1.0\n",
      "142                            159.0    1.0\n",
      "155                            187.0    1.0\n",
      "169                            215.0    1.0\n"
     ]
    },
    {
     "data": {
      "image/png": "[encoded data removed]",
      "text/plain": [
       "<Figure size 1440x360 with 1 Axes>"
      ]
     },
     "metadata": {},
     "output_type": "display_data"
    }
   ],
   "source": [
    "# Fazendo o groupby e trazendo apenas os valores que eram maiores que 0 (zero) nos portfólios\n",
    "vl_tvpg = veiculos.groupby(['vl_total_veiculos_pesados_grupo'])['port1','port2','port3'].sum().reset_index()\n",
    "#vl_tvpgp1 = vl_tvpg[(vl_tvpg['port1'] > 0) | (vl_tvpg['port2'] >  0) | (vl_tvpg['port3'] > 0)]\n",
    "vl_tvpgp1 = vl_tvpg[(vl_tvpg['port1'] > 0)][['vl_total_veiculos_pesados_grupo','port1']]\n",
    "vl_tvpgp2 = vl_tvpg[(vl_tvpg['port2'] > 0)][['vl_total_veiculos_pesados_grupo','port2']]\n",
    "vl_tvpgp3 = vl_tvpg[(vl_tvpg['port3'] > 0)][['vl_total_veiculos_pesados_grupo','port3']]\n",
    "\n",
    "# Aplicando o z score na coluna dos portfólios\n",
    "vl_tvpgp1z = (vl_tvpgp1['port1'] - vl_tvpgp1['port1'].mean()) / vl_tvpgp1['port1'].std()\n",
    "vl_tvpgp2z = (vl_tvpgp2['port2'] - vl_tvpgp2['port2'].mean()) / vl_tvpgp2['port2'].std()\n",
    "vl_tvpgp3z = (vl_tvpgp3['port3'] - vl_tvpgp3['port3'].mean()) / vl_tvpgp3['port3'].std()\n",
    "\n",
    "# plotando os gráficos\n",
    "fig, ax = plt.subplots(figsize=(20,5))\n",
    "print(vl_tvpgp1[['vl_total_veiculos_pesados_grupo','port1']])\n",
    "sns.barplot(data=vl_tvpgp1, x='vl_total_veiculos_pesados_grupo', y=vl_tvpgp1z);\n",
    "plt.xticks(rotation=90)\n",
    "plt.show()\n",
    "\n",
    "fig, ax = plt.subplots(figsize=(20,5))\n",
    "print(vl_tvpgp3[['vl_total_veiculos_pesados_grupo','port2']])\n",
    "sns.barplot(data=vl_tvpgp2, x='vl_total_veiculos_pesados_grupo', y=vl_tvpgp2z);\n",
    "plt.xticks(rotation=90)\n",
    "plt.show()\n",
    "\n",
    "fig, ax = plt.subplots(figsize=(20,5))\n",
    "print(vl_tvpgp3[['vl_total_veiculos_pesados_grupo','port3']])\n",
    "sns.barplot(data=vl_tvpgp3, x='vl_total_veiculos_pesados_grupo', y=vl_tvpgp3z);\n",
    "plt.xticks(rotation=90)\n",
    "plt.show()"
   ]
  },
  {
   "cell_type": "markdown",
   "metadata": {},
   "source": [
    "### Verificando a variável vl_total_veiculos_leves_grupo"
   ]
  },
  {
   "cell_type": "code",
   "execution_count": 88,
   "metadata": {},
   "outputs": [
    {
     "name": "stdout",
     "output_type": "stream",
     "text": [
      "     vl_total_veiculos_leves_grupo  port1\n",
      "0                              0.0  513.0\n",
      "1                              1.0   23.0\n",
      "2                              2.0    5.0\n",
      "3                              3.0    7.0\n",
      "4                              4.0    1.0\n",
      "5                              5.0    1.0\n",
      "6                              6.0    2.0\n",
      "10                            10.0    1.0\n",
      "17                            17.0    1.0\n",
      "159                          199.0    1.0\n"
     ]
    },
    {
     "data": {
      "image/png": "[encoded data removed]",
      "text/plain": [
       "<Figure size 1440x360 with 1 Axes>"
      ]
     },
     "metadata": {},
     "output_type": "display_data"
    },
    {
     "name": "stdout",
     "output_type": "stream",
     "text": [
      "     vl_total_veiculos_leves_grupo  port2\n",
      "0                              0.0  118.0\n",
      "1                              1.0   56.0\n",
      "2                              2.0   49.0\n",
      "3                              3.0   43.0\n",
      "4                              4.0   34.0\n",
      "5                              5.0   39.0\n",
      "6                              6.0   20.0\n",
      "7                              7.0   20.0\n",
      "8                              8.0   16.0\n",
      "9                              9.0   15.0\n",
      "10                            10.0   21.0\n",
      "11                            11.0   21.0\n",
      "12                            12.0    7.0\n",
      "13                            13.0   12.0\n",
      "14                            14.0    4.0\n",
      "15                            15.0    7.0\n",
      "16                            16.0    5.0\n",
      "17                            17.0    4.0\n",
      "18                            18.0    3.0\n",
      "19                            19.0   10.0\n",
      "20                            20.0    2.0\n",
      "21                            21.0    2.0\n",
      "22                            22.0    1.0\n",
      "23                            23.0    2.0\n",
      "24                            24.0    3.0\n",
      "25                            25.0    4.0\n",
      "26                            26.0    2.0\n",
      "29                            29.0    2.0\n",
      "30                            30.0    3.0\n",
      "31                            31.0    1.0\n",
      "32                            32.0    2.0\n",
      "34                            34.0    2.0\n",
      "36                            36.0    2.0\n",
      "40                            40.0    1.0\n",
      "41                            41.0    3.0\n",
      "44                            44.0    1.0\n",
      "49                            49.0    1.0\n",
      "53                            53.0    2.0\n",
      "54                            54.0    2.0\n",
      "58                            58.0    1.0\n",
      "60                            60.0    1.0\n",
      "61                            61.0    1.0\n",
      "63                            63.0    1.0\n",
      "64                            64.0    1.0\n",
      "65                            65.0    2.0\n",
      "67                            67.0    1.0\n",
      "68                            68.0    1.0\n",
      "69                            69.0    1.0\n",
      "73                            73.0    1.0\n",
      "74                            74.0    1.0\n",
      "90                            92.0    1.0\n",
      "99                           101.0    2.0\n",
      "109                          112.0    1.0\n",
      "127                          136.0    1.0\n",
      "144                          168.0    2.0\n",
      "158                          194.0    1.0\n",
      "176                          232.0    1.0\n",
      "185                          288.0    1.0\n",
      "186                          289.0    1.0\n",
      "201                          371.0    1.0\n"
     ]
    },
    {
     "data": {
      "image/png": "[encoded data removed]",
      "text/plain": [
       "<Figure size 1440x360 with 1 Axes>"
      ]
     },
     "metadata": {},
     "output_type": "display_data"
    },
    {
     "name": "stdout",
     "output_type": "stream",
     "text": [
      "     vl_total_veiculos_leves_grupo  port3\n",
      "0                              0.0   66.0\n",
      "1                              1.0   31.0\n",
      "2                              2.0   22.0\n",
      "3                              3.0   20.0\n",
      "4                              4.0   17.0\n",
      "5                              5.0   13.0\n",
      "6                              6.0   14.0\n",
      "7                              7.0   14.0\n",
      "8                              8.0    9.0\n",
      "9                              9.0    3.0\n",
      "10                            10.0    4.0\n",
      "11                            11.0    9.0\n",
      "12                            12.0    2.0\n",
      "13                            13.0    2.0\n",
      "14                            14.0    5.0\n",
      "15                            15.0    3.0\n",
      "16                            16.0    2.0\n",
      "17                            17.0    1.0\n",
      "18                            18.0    1.0\n",
      "19                            19.0    3.0\n",
      "22                            22.0    1.0\n",
      "23                            23.0    1.0\n",
      "24                            24.0    2.0\n",
      "25                            25.0    1.0\n",
      "26                            26.0    2.0\n",
      "27                            27.0    1.0\n",
      "29                            29.0    1.0\n",
      "30                            30.0    1.0\n",
      "33                            33.0    1.0\n",
      "36                            36.0    1.0\n",
      "38                            38.0    2.0\n",
      "50                            50.0    1.0\n",
      "54                            54.0    1.0\n",
      "55                            55.0    1.0\n",
      "99                           101.0    1.0\n",
      "119                          126.0    1.0\n",
      "121                          129.0    1.0\n",
      "142                          165.0    1.0\n",
      "158                          194.0    1.0\n",
      "164                          206.0    1.0\n",
      "201                          371.0    1.0\n"
     ]
    },
    {
     "data": {
      "image/png": "[encoded data removed]",
      "text/plain": [
       "<Figure size 1440x360 with 1 Axes>"
      ]
     },
     "metadata": {},
     "output_type": "display_data"
    }
   ],
   "source": [
    "# Fazendo o groupby e trazendo apenas os valores que eram maiores que 0 (zero) nos portfólios\n",
    "vl_tvlg = veiculos.groupby(['vl_total_veiculos_leves_grupo'])['port1','port2','port3'].sum().reset_index()\n",
    "#vl_tvpgp1 = vl_tvpg[(vl_tvpg['port1'] > 0) | (vl_tvpg['port2'] >  0) | (vl_tvpg['port3'] > 0)]\n",
    "vl_tvlgp1 = vl_tvlg[(vl_tvlg['port1'] > 0)][['vl_total_veiculos_leves_grupo','port1']]\n",
    "vl_tvlgp2 = vl_tvlg[(vl_tvlg['port2'] > 0)][['vl_total_veiculos_leves_grupo','port2']]\n",
    "vl_tvlgp3 = vl_tvlg[(vl_tvlg['port3'] > 0)][['vl_total_veiculos_leves_grupo','port3']]\n",
    "\n",
    "# Aplicando o z score na coluna dos portfólios\n",
    "vl_tvlgp1z = (vl_tvlgp1['port1'] - vl_tvlgp1['port1'].mean()) / vl_tvlgp1['port1'].std()\n",
    "vl_tvlgp2z = (vl_tvlgp2['port2'] - vl_tvlgp2['port2'].mean()) / vl_tvlgp2['port2'].std()\n",
    "vl_tvlgp3z = (vl_tvlgp3['port3'] - vl_tvlgp3['port3'].mean()) / vl_tvlgp3['port3'].std()\n",
    "\n",
    "# plotando os gráficos\n",
    "fig, ax = plt.subplots(figsize=(20,5))\n",
    "print(vl_tvlgp1[['vl_total_veiculos_leves_grupo','port1']])\n",
    "sns.barplot(data=vl_tvlgp1, x='vl_total_veiculos_leves_grupo', y=vl_tvlgp1z);\n",
    "plt.xticks(rotation=90)\n",
    "plt.show()\n",
    "\n",
    "fig, ax = plt.subplots(figsize=(20,5))\n",
    "print(vl_tvlgp2[['vl_total_veiculos_leves_grupo','port2']])\n",
    "sns.barplot(data=vl_tvlgp2, x='vl_total_veiculos_leves_grupo', y=vl_tvlgp2z);\n",
    "plt.xticks(rotation=90)\n",
    "plt.show()\n",
    "\n",
    "fig, ax = plt.subplots(figsize=(20,5))\n",
    "print(vl_tvlgp3[['vl_total_veiculos_leves_grupo','port3']])\n",
    "sns.barplot(data=vl_tvlgp3, x='vl_total_veiculos_leves_grupo', y=vl_tvlgp3z);\n",
    "plt.xticks(rotation=90)\n",
    "plt.show()"
   ]
  },
  {
   "cell_type": "markdown",
   "metadata": {},
   "source": [
    "# Análise relatíva a `sócios` - INCOMPLETA"
   ]
  },
  {
   "cell_type": "code",
   "execution_count": null,
   "metadata": {},
   "outputs": [],
   "source": [
    "socios = market[['id','qt_socios','qt_socios_pf','qt_socios_pj','idade_media_socios',\n",
    "                 'idade_maxima_socios','idade_minima_socios','qt_socios_st_regular']]"
   ]
  },
  {
   "cell_type": "markdown",
   "metadata": {},
   "source": [
    "- **qt_socios** -> quantidade sócios\n",
    "- **qt_socios_pf** -> quantidade de sócios PF\n",
    "- **qt_socios_pj** -> quantidade de sócios PJ\n",
    "- **idade_media_socios** -> idade média dos sócios\n",
    "- **idade_maxima_socios** -> igual máxima dos sócios\n",
    "- **idade_minima_socios** -> igual mínima dos sócios\n",
    "- **qt_socios_st_regular** -> quantidade dos sócios regulares na Receita Federal"
   ]
  },
  {
   "cell_type": "code",
   "execution_count": null,
   "metadata": {},
   "outputs": [],
   "source": [
    "socios.head()"
   ]
  },
  {
   "cell_type": "code",
   "execution_count": null,
   "metadata": {},
   "outputs": [],
   "source": [
    "socios['id'].count()"
   ]
  },
  {
   "cell_type": "code",
   "execution_count": null,
   "metadata": {},
   "outputs": [],
   "source": [
    "socios['port1'] = socios.id.isin(port1.id)\n",
    "socios['port2'] = socios.id.isin(port2.id)\n",
    "socios['port3'] = socios.id.isin(port3.id)"
   ]
  },
  {
   "cell_type": "code",
   "execution_count": null,
   "metadata": {},
   "outputs": [],
   "source": [
    "socios.isnull().sum() / socios.count() * 100"
   ]
  },
  {
   "cell_type": "code",
   "execution_count": null,
   "metadata": {},
   "outputs": [],
   "source": [
    "socios.info()"
   ]
  },
  {
   "cell_type": "code",
   "execution_count": null,
   "metadata": {},
   "outputs": [],
   "source": [
    "socios.describe()"
   ]
  },
  {
   "cell_type": "code",
   "execution_count": null,
   "metadata": {},
   "outputs": [],
   "source": [
    "socios.fillna(socios.quantile(0.5), inplace=True)"
   ]
  },
  {
   "cell_type": "code",
   "execution_count": null,
   "metadata": {},
   "outputs": [],
   "source": [
    "socios.isnull().sum()"
   ]
  },
  {
   "cell_type": "code",
   "execution_count": null,
   "metadata": {},
   "outputs": [],
   "source": [
    "socios.describe()"
   ]
  },
  {
   "cell_type": "markdown",
   "metadata": {},
   "source": [
    "### Verificando a variável qt_socios"
   ]
  },
  {
   "cell_type": "code",
   "execution_count": null,
   "metadata": {},
   "outputs": [],
   "source": [
    "# Fazendo o agrupamento\n",
    "qt_sociosp1 = socios.groupby(['qt_socios'])['port1'].sum().reset_index()\n",
    "qt_sociosp2 = socios.groupby(['qt_socios'])['port2'].sum().reset_index()\n",
    "qt_sociosp3 = socios.groupby(['qt_socios'])['port3'].sum().reset_index()\n",
    "\n",
    "# Plotando o gráfico\n",
    "fig, (ax1, ax2, ax3) = plt.subplots(1, 3, figsize=(14,4))\n",
    "sns.barplot(x=qt_sociosp1.iloc[:,0], y=qt_sociosp1.iloc[:,1], ax=ax1)\n",
    "sns.barplot(x=qt_sociosp2.iloc[:,0], y=qt_sociosp2.iloc[:,1], ax=ax2)\n",
    "sns.barplot(x=qt_sociosp3.iloc[:,0], y=qt_sociosp3.iloc[:,1], ax=ax3)\n",
    "\n",
    "# imprimindo os números\n",
    "socios.groupby(['qt_socios'])['port1', 'port2', 'port3'].sum()"
   ]
  },
  {
   "cell_type": "code",
   "execution_count": null,
   "metadata": {},
   "outputs": [],
   "source": [
    "socios.groupby([socios['qt_socios']])['port1', 'port2', 'port3'].count()"
   ]
  },
  {
   "cell_type": "code",
   "execution_count": null,
   "metadata": {},
   "outputs": [],
   "source": [
    "fig, (ax1, ax2, ax3) = plt.subplots(1, 3, figsize=(15,4))\n",
    "\n",
    "sns.barplot(x='port1', y='qt_socios_pf', data=socios, ax=ax1)\n",
    "sns.barplot(x='port2', y='qt_socios_pf', data=socios, ax=ax2)\n",
    "sns.barplot(x='port3', y='qt_socios_pf', data=socios, ax=ax3)"
   ]
  },
  {
   "cell_type": "code",
   "execution_count": null,
   "metadata": {},
   "outputs": [],
   "source": [
    "socios.groupby([socios['qt_socios_pf']])['port1', 'port2', 'port3'].count()"
   ]
  },
  {
   "cell_type": "code",
   "execution_count": null,
   "metadata": {},
   "outputs": [],
   "source": [
    "fig, (ax1, ax2, ax3) = plt.subplots(1, 3, figsize=(15,4))\n",
    "\n",
    "sns.barplot(x='port1', y='qt_socios_pj', data=socios, ax=ax1, )\n",
    "sns.barplot(x='port2', y='qt_socios_pj', data=socios, ax=ax2)\n",
    "sns.barplot(x='port3', y='qt_socios_pj', data=socios, ax=ax3)"
   ]
  },
  {
   "cell_type": "code",
   "execution_count": null,
   "metadata": {},
   "outputs": [],
   "source": [
    "socios.groupby([socios['qt_socios_pj']])['port1', 'port2', 'port3'].count()"
   ]
  },
  {
   "cell_type": "code",
   "execution_count": null,
   "metadata": {},
   "outputs": [],
   "source": [
    "fig, (ax1, ax2, ax3) = plt.subplots(1, 3, figsize=(15,4))\n",
    "\n",
    "sns.barplot(x='port1', y='idade_media_socios', data=socios, ax=ax1)\n",
    "sns.barplot(x='port2', y='idade_media_socios', data=socios, ax=ax2)\n",
    "sns.barplot(x='port3', y='idade_media_socios', data=socios, ax=ax3)"
   ]
  },
  {
   "cell_type": "code",
   "execution_count": null,
   "metadata": {},
   "outputs": [],
   "source": [
    "socios.groupby([socios['idade_media_socios']])['port1', 'port2', 'port3'].count()"
   ]
  },
  {
   "cell_type": "code",
   "execution_count": null,
   "metadata": {},
   "outputs": [],
   "source": [
    "fig, (ax1, ax2, ax3) = plt.subplots(1, 3, figsize=(15,4))\n",
    "\n",
    "sns.barplot(x='port1', y='idade_maxima_socios', data=socios, ax=ax1)\n",
    "sns.barplot(x='port2', y='idade_maxima_socios', data=socios, ax=ax2)\n",
    "sns.barplot(x='port3', y='idade_maxima_socios', data=socios, ax=ax3)"
   ]
  },
  {
   "cell_type": "code",
   "execution_count": null,
   "metadata": {},
   "outputs": [],
   "source": [
    "socios.groupby([socios['idade_maxima_socios']])['port1', 'port2', 'port3'].count()"
   ]
  },
  {
   "cell_type": "code",
   "execution_count": null,
   "metadata": {},
   "outputs": [],
   "source": [
    "fig, (ax1, ax2, ax3) = plt.subplots(1, 3, figsize=(15,4))\n",
    "\n",
    "sns.barplot(x='port1', y='idade_minima_socios', data=socios, ax=ax1)\n",
    "sns.barplot(x='port2', y='idade_minima_socios', data=socios, ax=ax2)\n",
    "sns.barplot(x='port3', y='idade_minima_socios', data=socios, ax=ax3)"
   ]
  },
  {
   "cell_type": "code",
   "execution_count": null,
   "metadata": {},
   "outputs": [],
   "source": [
    "fig, (ax1, ax2, ax3) = plt.subplots(1, 3, figsize=(15,4))\n",
    "\n",
    "sns.barplot(x='port1', y='qt_socios_st_regular', data=socios, ax=ax1)\n",
    "sns.barplot(x='port2', y='qt_socios_st_regular', data=socios, ax=ax2)\n",
    "sns.barplot(x='port3', y='qt_socios_st_regular', data=socios, ax=ax3)"
   ]
  },
  {
   "cell_type": "code",
   "execution_count": null,
   "metadata": {},
   "outputs": [],
   "source": [
    "socios.groupby([socios['qt_socios_st_regular']])['port1', 'port2', 'port3'].count()"
   ]
  },
  {
   "cell_type": "code",
   "execution_count": null,
   "metadata": {},
   "outputs": [],
   "source": []
  }
 ],
 "metadata": {
  "kernelspec": {
   "display_name": "Python 3",
   "language": "python",
   "name": "python3"
  },
  "language_info": {
   "codemirror_mode": {
    "name": "ipython",
    "version": 3
   },
   "file_extension": ".py",
   "mimetype": "text/x-python",
   "name": "python",
   "nbconvert_exporter": "python",
   "pygments_lexer": "ipython3",
   "version": "3.7.4"
  }
 },
 "nbformat": 4,
 "nbformat_minor": 4
}
