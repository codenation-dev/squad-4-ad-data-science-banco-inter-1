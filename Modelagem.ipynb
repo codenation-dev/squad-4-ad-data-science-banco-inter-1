{
 "cells": [
  {
   "cell_type": "markdown",
   "metadata": {},
   "source": [
    "# Desafio Final - 21/12/2019\n",
    "\n",
    "## Squad 4\n",
    "> Autores \n",
    "```\n",
    ">- Nilson Cunha    | nilsoncunha\n",
    ">- Otávio Miranda  | otavioacm\n",
    ">- Rafael Barbosa  | rlbarbosa\n",
    ">- Roberth Macedo  | macedoroberth\n",
    "```"
   ]
  },
  {
   "cell_type": "markdown",
   "metadata": {},
   "source": [
    "# Importação de pacotes"
   ]
  },
  {
   "cell_type": "code",
   "execution_count": 16,
   "metadata": {},
   "outputs": [],
   "source": [
    "import pandas as pd\n",
    "import numpy as np\n",
    "import seaborn as sns\n",
    "import matplotlib.pyplot as plt\n",
    "from plotnine import *\n",
    "from kmodes.kprototypes import KPrototypes\n",
    "from scipy.stats import iqr\n",
    "sns.set(style='darkgrid')\n",
    "import warnings\n",
    "warnings.filterwarnings('ignore')"
   ]
  },
  {
   "cell_type": "code",
   "execution_count": 11,
   "metadata": {},
   "outputs": [],
   "source": [
    "%matplotlib inline\n",
    "from IPython.core.pylabtools import figsize\n",
    "figsize(12, 6)\n",
    "sns.set()"
   ]
  },
  {
   "cell_type": "markdown",
   "metadata": {},
   "source": [
    "# Executa script de modificações"
   ]
  },
  {
   "cell_type": "code",
   "execution_count": 2,
   "metadata": {},
   "outputs": [],
   "source": [
    "exec(open(\"Modifica_variaveis.py\").read())"
   ]
  },
  {
   "cell_type": "markdown",
   "metadata": {},
   "source": [
    "# Divisão das variáveis"
   ]
  },
  {
   "cell_type": "markdown",
   "metadata": {},
   "source": [
    "### Informações Cadastrais - 12 Variáveis\n",
    "| Coluna                                | Percentual | Descrição                                   | Anotações                             |\n",
    "|---------------------------------------|------------|---------------------------------------------|---------------------------------------|\n",
    "| fl_matriz                             | 0%         | Verdadeiro se o CNPJ corresponder a matriz  |                                       |\n",
    "| de_natureza_juridica                  | 0%         | Carрter da natureza jurьdica                | LTDA, SA,  Empresario individual      |\n",
    "| SG_UF                                 | 0%         | Estado da companhia                         | Estado geogrрfico                     |\n",
    "| idade_empresa_anos                    | 0%         | Idade da empresa                            |                                       |\n",
    "| idade_emp_cat                         | 0%         | intervalo de anos que a empresa possui      |                                       |\n",
    "| fl_email                              | 0%         | Se hр email registrado na receita           | Pode identificar aptidсo a tecnologia |\n",
    "| fl_telefone                           | 0%         | Se hр telefone registrado na receita        |                                       |\n",
    "| fl_rm                                 | 0%         | Indicador de рrea metropolitana             | Indicador de рrea metropolitana       |\n",
    "| sg_uf_matriz                          | 0%         | Localização da matriz                       |                                       |\n",
    "| empsetorcensitariofaixarendapopulacao | 31%        | Renda média da região                       |                                       |\n",
    "| nm_meso_regiao                        | 13%        | Nome da mesorregiсo onde a cia estр alocada |                                       |\n",
    "| nm_micro_regiao                       | 13%        | Nome da microregiсo onde a cia estр alocada |\n",
    "\n",
    "### Informações financeiras - 20\n",
    "| Coluna                              | Percentual | Descritivo                                                      | Anotações                           |\n",
    "|-------------------------------------|------------|----------------------------------------------------------------|-------------------------------------|\n",
    "| fl_me                               | 0%         | Microempresa Individual                                        | Atж 360 mil reais/ ano              |\n",
    "| fl_sa                               | 0%         | Sociedade anЗnima                                              | Sociedade grande porte (normalmene) |\n",
    "| fl_epp                              | 0%         | Empresa de porte pequeno                                       | entre R$ 360 mil e R$ 3,6 milhшes   |\n",
    "| fl_mei                              | 0%         | Microempreendedor Individual                                   | Atж 60 mil reais/ ano               |\n",
    "| fl_ltda                             | 0%         | Limitada                                                       | Sociedade mжdio porte (normalmente) |\n",
    "| dt_situacao                         | 0%         | Data da situaусo na Receita                                    |                                     |\n",
    "| fl_st_especial                      | 0%         |                                                                | Falido, em liquidaусo judicial...   |\n",
    "| fl_optante_simples                  | 18%        | Optante pelo SIMPLES                                       | Correlaусo com a variрvel 14        |\n",
    "| fl_optante_simei                    | 18%        | Optante pelo SIMEI                                       |                                     |\n",
    "| de_saude_tributaria                 | 3%         | SE impostos pagos; verde; vermelho                             |                                     |\n",
    "| de_saude_rescencia                  | 3%         | Tempo de atualizaусo da saude tributaria                       |                                     |\n",
    "| nu_meses_rescencia                  | 10%        | Número de meses desde a última atualizações de saúde tributária |                                     |\n",
    "| de_nivel_atividade                  | 2%         | Probabilidade de estar operando                                |                                     |\n",
    "| fl_simples_irregular                | 0%         | Simples irregular por tipo de atividade ou receita             |                                     |\n",
    "| fl_passivel_iss                     | 0%         | Verdadeiro caso realize atividades tributрveis                 |                                     |\n",
    "| de_faixa_faturamento_estimado       | 6%         | Faixa do faturamento estimado                                  |                                     |\n",
    "| de_faixa_faturamento_estimado_grupo | 6%         | Faixa de faturamento estimado do grupo                         |                                     |\n",
    "| vl_faturamento_estimado_aux         | 6%         | Valor da receita estimada                                      |                                     |\n",
    "| vl_faturamento_estimado_grupo_aux   | 6%         | Valor da receita estimada do grupo                             |                                     |\n",
    "| qt_filiais                          | 0%         | Quantidade de filiais                                          |                                     |\n",
    "\n",
    "### Informações de veículos - 5\n",
    "| Coluna                          | Percentual | Descritivo                                         | Anotações                               |\n",
    "|---------------------------------|------------|---------------------------------------------------|-----------------------------------------|\n",
    "| fl_spa                          | 0%         | Se a empresa tem seu prзprio posto de combustьvel | Grupo de variрveis setor de transportes |\n",
    "| fl_antt                         | 0%         | Certificada para fins de transporte               |                                         |\n",
    "| fl_veiculo                      | 0%         | Se a empresa possuь ao menos um veьculo           |                                         |\n",
    "| vl_total_veiculos_pesados_grupo | 0%         | Valor dos veьculos leves da empresa               |                                         |\n",
    "| vl_total_veiculos_leves_grupo   | 0%         | Valor dos veьculos pesados da empresa             |                                         |\n",
    "\n",
    "### Setor de Atuação - 5\n",
    "| Coluna                  | Percentual | Descritivo                        | Anotações                                                                        |\n",
    "|-------------------------|------------|----------------------------------|----------------------------------------------------------------------------------|\n",
    "| natureza_juridica_macro | 0%         | Natureza da empresa              | Administracao publica, cargo politico...                                         |\n",
    "| de_ramo                 | 0%         | Ramo de atuaусo da empresa       | Verificar o ramo de atuaусo das empresas por portfзlio e verificar similaridades |\n",
    "| setor                   | 0%         | setor de atuaусo                 | Comercio, serviуo, indЩstria...                                                  |\n",
    "| nm_divisao              | 0%         | Descriусo da atividade econЗmica | Descriусo mais completa sobre o setor de atuaусo                                 |\n",
    "| nm_segmento             | 0%         | Descriусo da atividade econЗmica |                                                                                  \n",
    "\n",
    "### Informações dos sócios - 7\n",
    "| Coluna               | Percentual | Descrição                                | Anotações                        |\n",
    "|----------------------|------------|------------------------------------------|----------------------------------|\n",
    "| qt_socios            | 25%        | Quantidade de sзcios                     | Se relaciona com LTDA/AS -> GRP2 |\n",
    "| qt_socios_pf         | 25%        | Quantidade de sзcios PF                  |                                  |\n",
    "| qt_socios_pj         | 25%        | Quanidade de sзcios PJ                   |                                  |\n",
    "| idade_media_socios   | 33%        | Idade mжdia dos sзcios                   |                                  |\n",
    "| idade_maxima_socios  | 33%        | Idade mрxima dos sзcios                  |                                  |\n",
    "| idade_minima_socios  | 33%        | Idade mьnima dos sзcios                  |                                  |\n",
    "| qt_socios_st_regular | 34%        | Quanidade de sзcios regulares na Receita |                                  |"
   ]
  },
  {
   "cell_type": "markdown",
   "metadata": {},
   "source": [
    "# Função do modelo\n",
    "\n",
    "> **1.** Calcula 3 centroides (um por portfolio) e calcula a distancia de todos as empresas do market até os 3 centroides   \n",
    "> **2.** Calcula o **limite superior** das distâncias das empresas **dentro** do portfolio (**IQR * 1.5)**  \n",
    "> **3.** Indica como Lead as empresas no market cujo distância é menor do que esse limite superior\n",
    "\n",
    "## Qualidade do ajuste\n",
    "\n",
    "Um bom ajuste significa conseguir diferenciar as empresas do portfolio das demais empresas no market. Portanto, queremos que a distribuição das distancias das empresas do portfolio seja distinta da distribuição no market. Em resumo, os boxplots das distancias deve mostrar uma divisão clara.\n",
    "\n",
    "## Seleção de variáveis\n",
    "\n",
    "Selecionar variaveis que levam a uma maior separação na distribuição das distancias. Isso é semelhante a minimizar a quantidade de empresas indicadas como leads."
   ]
  },
  {
   "cell_type": "code",
   "execution_count": 7,
   "metadata": {},
   "outputs": [],
   "source": [
    "def cluster_foda(df, var_cat, var_num, port1, port2, port3):\n",
    "    \n",
    "    # Verifica se tem nulos nas variaveis selecionadas.\n",
    "    nulos = df[var_num + var_cat].isna().sum()\n",
    "    if any(nulos > 0):\n",
    "        print(\"tira os nulos caraio\")\n",
    "        return nulos[nulos>0]\n",
    "    \n",
    "    treino1 = df[df[port1] == 1][var_cat + var_num]\n",
    "    treino2 = df[df[port2] == 1][var_cat + var_num]\n",
    "    treino3 = df[df[port3] == 1][var_cat + var_num]\n",
    "    teste = df[var_cat + var_num].copy()\n",
    "    \n",
    "    # Calcula o centroide dos clientes\n",
    "    index_cat = list(range(len(var_cat)))\n",
    "    \n",
    "    kproto1 = KPrototypes(n_clusters=1, init='Cao')\n",
    "    kproto2 = KPrototypes(n_clusters=1, init='Cao')\n",
    "    kproto3 = KPrototypes(n_clusters=1, init='Cao')\n",
    "\n",
    "    kproto1.fit(treino1, categorical=index_cat)\n",
    "    kproto2.fit(treino2, categorical=index_cat)\n",
    "    kproto3.fit(treino3, categorical=index_cat)\n",
    "    \n",
    "    # Faz prediçao das distancias pro market.\n",
    "    clusters_teste1, distances_teste1 = kproto1.predict(teste, categorical=index_cat)\n",
    "    clusters_teste2, distances_teste2 = kproto2.predict(teste, categorical=index_cat)\n",
    "    clusters_teste3, distances_teste3 = kproto3.predict(teste, categorical=index_cat)\n",
    "    \n",
    "    # Cria variavel de distancia na base do market\n",
    "    teste['dist_p1'] = distances_teste1\n",
    "    teste['dist_p2'] = distances_teste2\n",
    "    teste['dist_p3'] = distances_teste3\n",
    "    \n",
    "    teste['port1'] = df[port1]\n",
    "    teste['port2'] = df[port2]\n",
    "    teste['port3'] = df[port3]\n",
    "    \n",
    "    ls1 = iqr(teste.dist_p1)*1.5\n",
    "    ls2 = iqr(teste.dist_p2)*1.5\n",
    "    ls3 = iqr(teste.dist_p2)*1.5\n",
    "    \n",
    "    teste['leads_p1'] = teste.dist_p1 < ls1\n",
    "    teste['leads_p2'] = teste.dist_p2 < ls2\n",
    "    teste['leads_p3'] = teste.dist_p3 < ls3\n",
    "    \n",
    "    return teste"
   ]
  },
  {
   "cell_type": "code",
   "execution_count": 8,
   "metadata": {},
   "outputs": [],
   "source": [
    "x = cluster_foda(df = market,\n",
    "                 var_cat = ['setor', 'nm_segmento', 'cli_mei', 'qt_filiais_range', 'idade_emp_cat'],\n",
    "                 var_num = ['faturamento_cat'],\n",
    "                 port1 = 'port1',\n",
    "                 port2 = 'port2',\n",
    "                 port3 = 'port3')"
   ]
  },
  {
   "cell_type": "markdown",
   "metadata": {},
   "source": [
    "# Avaliação da qualidade do modelo"
   ]
  },
  {
   "cell_type": "markdown",
   "metadata": {},
   "source": [
    "### Boxplot das distancias"
   ]
  },
  {
   "cell_type": "code",
   "execution_count": 12,
   "metadata": {
    "scrolled": true
   },
   "outputs": [
    {
     "data": {
      "text/plain": [
       "<matplotlib.axes._subplots.AxesSubplot at 0x22600697548>"
      ]
     },
     "execution_count": 12,
     "metadata": {},
     "output_type": "execute_result"
    },
    {
     "data": {
      "image/png": "[encoded data removed]",
      "text/plain": [
       "<Figure size 864x432 with 3 Axes>"
      ]
     },
     "metadata": {},
     "output_type": "display_data"
    }
   ],
   "source": [
    "# Initialize figure and ax\n",
    "fig, axs = plt.subplots(ncols=3)\n",
    "axs[0].set(yscale=\"log\")\n",
    "axs[1].set(yscale=\"log\")\n",
    "axs[2].set(yscale=\"log\")\n",
    "sns.boxplot(x = 'port1', y = 'dist_p1', data = x, ax=axs[0])\n",
    "sns.boxplot(x = 'port2', y = 'dist_p2', data = x, ax=axs[1])\n",
    "sns.boxplot(x = 'port3', y = 'dist_p3', data = x, ax=axs[2])"
   ]
  },
  {
   "cell_type": "markdown",
   "metadata": {},
   "source": [
    "### Quantidade de clientes indicados\n",
    "\n",
    ">  Talvez seja interessante sumarizar essa métrica somando o numero de clientes em todos portfolios e tentando minimizar esse valor."
   ]
  },
  {
   "cell_type": "code",
   "execution_count": 18,
   "metadata": {},
   "outputs": [
    {
     "data": {
      "text/plain": [
       "(346530, 52989, 28004)"
      ]
     },
     "execution_count": 18,
     "metadata": {},
     "output_type": "execute_result"
    }
   ],
   "source": [
    "x.leads_p1.sum(), x.leads_p2.sum(), x.leads_p3.sum()"
   ]
  },
  {
   "cell_type": "code",
   "execution_count": 20,
   "metadata": {},
   "outputs": [
    {
     "data": {
      "text/plain": [
       "427523"
      ]
     },
     "execution_count": 20,
     "metadata": {},
     "output_type": "execute_result"
    }
   ],
   "source": [
    "x.leads_p1.sum() +  x.leads_p2.sum() + x.leads_p3.sum()"
   ]
  }
 ],
 "metadata": {
  "kernelspec": {
   "display_name": "Python 3",
   "language": "python",
   "name": "python3"
  },
  "language_info": {
   "codemirror_mode": {
    "name": "ipython",
    "version": 3
   },
   "file_extension": ".py",
   "mimetype": "text/x-python",
   "name": "python",
   "nbconvert_exporter": "python",
   "pygments_lexer": "ipython3",
   "version": "3.7.4"
  }
 },
 "nbformat": 4,
 "nbformat_minor": 2
}
